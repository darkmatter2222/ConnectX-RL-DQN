{
 "cells": [
  {
   "cell_type": "code",
   "execution_count": 5,
   "metadata": {},
   "outputs": [],
   "source": [
    "import os\n",
    "import json\n",
    "import socket"
   ]
  },
  {
   "cell_type": "code",
   "execution_count": 8,
   "metadata": {},
   "outputs": [
    {
     "name": "stdout",
     "output_type": "stream",
     "text": [
      "loading configuration...\n"
     ]
    }
   ],
   "source": [
    "# loading configuration...\n",
    "print('loading configuration...')\n",
    "_config = {}\n",
    "with open('config.json') as f:\n",
    "    _config = json.load(f)\n",
    "\n",
    "host_name = socket.gethostname()\n",
    "base_directory_key = 'base_dir'\n",
    "target = f'{host_name}-base_dir'\n",
    "if target in _config['files']['policy']:\n",
    "    base_directory_key = target\n",
    "\n",
    "_master_truth_dir = os.path.join(_config['files']['policy'][base_directory_key],\n",
    "                                      _config['files']['policy']['master_truth']['dir'])\n",
    "\n",
    "_master_truth_file = os.path.join(_config['files']['policy'][base_directory_key],\n",
    "                                      _config['files']['policy']['master_truth']['dir'],\n",
    "                                      _config['files']['policy']['master_truth']['name'])\n",
    "\n",
    "_executable_bots_dir = os.path.join(_config['files']['policy'][base_directory_key],\n",
    "                                      _config['files']['policy']['executable_bots']['dir'])\n",
    "\n",
    "if not os.path.exists(_executable_bots_dir):\n",
    "    os.makedirs(_executable_bots_dir)\n",
    "\n",
    "\n",
    "f = open(_master_truth_file, \"r\")\n",
    "payload = f.read()\n",
    "f.close()\n",
    "\n",
    "f = open('package//submission_template.py', \"r\")\n",
    "sub_template = f.read()\n",
    "f.close()\n",
    "\n",
    "\n",
    "f = open(f'{_executable_bots_dir}//submission.py', \"w\")\n",
    "f.write(sub_template.replace(\"{REPLACEME}\", payload))\n",
    "f.close()\n"
   ]
  },
  {
   "cell_type": "code",
   "execution_count": 10,
   "metadata": {},
   "outputs": [],
   "source": [
    "import sys, os\n",
    "sys.path.append(os.path.abspath(_executable_bots_dir))\n",
    "import submission"
   ]
  },
  {
   "cell_type": "code",
   "execution_count": null,
   "metadata": {},
   "outputs": [],
   "source": [
    "from kaggle_environments import evaluate, make, utils\n",
    "\n",
    "env = make(\"connectx\", debug=True)\n",
    "\n",
    "win = 0\n",
    "loss = 0\n",
    "tie = 0\n",
    "\n",
    "for i in range(100):\n",
    "    env.reset()\n",
    "    # Play as the first agent against default \"random\" agent.\n",
    "    env.run([\"random\", submission.my_agent])\n",
    "    if env.state[0].reward == 1:\n",
    "        win += 1\n",
    "    elif env.state[0].reward == 0:\n",
    "        tie += 1\n",
    "    else:\n",
    "        loss += 1\n",
    "    #env.render(mode=\"ipython\", width=500, height=450)\n",
    "    \n",
    "print(f'Win:{win} Loss:{loss} Tie:{tie}')"
   ]
  },
  {
   "cell_type": "code",
   "execution_count": null,
   "metadata": {},
   "outputs": [],
   "source": []
  }
 ],
 "metadata": {
  "kernelspec": {
   "display_name": "Python380x64TensorflowGPU",
   "language": "python",
   "name": "python380x64tensorflowgpu"
  },
  "language_info": {
   "codemirror_mode": {
    "name": "ipython",
    "version": 3
   },
   "file_extension": ".py",
   "mimetype": "text/x-python",
   "name": "python",
   "nbconvert_exporter": "python",
   "pygments_lexer": "ipython3",
   "version": "3.8.0"
  }
 },
 "nbformat": 4,
 "nbformat_minor": 4
}
