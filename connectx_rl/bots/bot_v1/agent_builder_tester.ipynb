{
 "cells": [
  {
   "cell_type": "code",
   "execution_count": 1,
   "metadata": {},
   "outputs": [],
   "source": [
    "import os\n",
    "import json\n",
    "import socket"
   ]
  },
  {
   "cell_type": "code",
   "execution_count": 2,
   "metadata": {},
   "outputs": [
    {
     "name": "stdout",
     "output_type": "stream",
     "text": [
      "loading configuration...\n"
     ]
    }
   ],
   "source": [
    "# loading configuration...\n",
    "print('loading configuration...')\n",
    "_config = {}\n",
    "with open('config.json') as f:\n",
    "    _config = json.load(f)\n",
    "\n",
    "host_name = socket.gethostname()\n",
    "base_directory_key = 'base_dir'\n",
    "target = f'{host_name}-base_dir'\n",
    "if target in _config['files']['policy']:\n",
    "    base_directory_key = target\n",
    "\n",
    "_master_truth_dir = os.path.join(_config['files']['policy'][base_directory_key],\n",
    "                                      _config['files']['policy']['master_truth']['dir'])\n",
    "\n",
    "_master_truth_file = os.path.join(_config['files']['policy'][base_directory_key],\n",
    "                                      _config['files']['policy']['master_truth']['dir'],\n",
    "                                      _config['files']['policy']['master_truth']['name'])\n",
    "\n",
    "_executable_bots_dir = os.path.join(_config['files']['policy'][base_directory_key],\n",
    "                                      _config['files']['policy']['executable_bots']['dir'])\n",
    "\n",
    "if not os.path.exists(_executable_bots_dir):\n",
    "    os.makedirs(_executable_bots_dir)\n",
    "\n",
    "\n",
    "f = open(_master_truth_file, \"r\")\n",
    "payload = f.read()\n",
    "f.close()\n",
    "\n",
    "f = open('package//submission_template.py', \"r\")\n",
    "sub_template = f.read()\n",
    "f.close()\n",
    "\n",
    "\n",
    "f = open(f'{_executable_bots_dir}//submissionv5.py', \"w\")\n",
    "f.write(sub_template.replace(\"{REPLACEME}\", payload))\n",
    "f.close()\n"
   ]
  },
  {
   "cell_type": "code",
   "execution_count": 3,
   "metadata": {},
   "outputs": [],
   "source": [
    "import sys, os\n",
    "sys.path.append(os.path.abspath(_executable_bots_dir))\n",
    "import submissionv5 as enemy"
   ]
  },
  {
   "cell_type": "code",
   "execution_count": 4,
   "metadata": {},
   "outputs": [
    {
     "name": "stdout",
     "output_type": "stream",
     "text": [
      "Eval Going First Wins:46 Losss:2 Ties:0  Going Second Wins:49 Losss:3 Ties:0 \n"
     ]
    }
   ],
   "source": [
    "from kaggle_environments import evaluate, make, utils\n",
    "import random\n",
    "results = {\n",
    "    'win': {\n",
    "        'first': 0,\n",
    "        'second': 0\n",
    "    },\n",
    "    'loss': {\n",
    "        'first': 0,\n",
    "        'second': 0\n",
    "    },\n",
    "    'tie': {\n",
    "        'first': 0,\n",
    "        'second': 0\n",
    "    }\n",
    "}\n",
    "for i in range(100):\n",
    "    env = make(\"connectx\")\n",
    "    env.reset()\n",
    "    if random.choice(range(2)) == 0:\n",
    "        env.run([\"random\", enemy.my_agent])\n",
    "        state_pos = 1\n",
    "    else:\n",
    "        env.run([enemy.my_agent, \"random\"])\n",
    "        state_pos = 0\n",
    "    # Play as the first agent against default \"random\" agent.\n",
    "    win_flag = env.state[state_pos].reward\n",
    "    if state_pos == 0:\n",
    "        if win_flag == 1:\n",
    "            results['win']['first'] += 1\n",
    "        elif win_flag == -1:\n",
    "            results['loss']['first'] += 1\n",
    "        else:\n",
    "            results['tie']['first'] += 1\n",
    "    elif state_pos == 1:\n",
    "        if win_flag == 1:\n",
    "            results['win']['second'] += 1\n",
    "        elif win_flag == -1:\n",
    "            results['loss']['second'] += 1\n",
    "        else:\n",
    "            results['tie']['second'] += 1\n",
    "\n",
    "    #env.render(mode=\"ipython\", width=500, height=450)\n",
    "    \n",
    "print(f'Eval Going First '\n",
    "      f'Wins:{results[\"win\"][\"first\"]} '\n",
    "      f'Losss:{results[\"loss\"][\"first\"]} '\n",
    "      f'Ties:{results[\"tie\"][\"first\"]} '\n",
    "      f' Going Second '\n",
    "      f'Wins:{results[\"win\"][\"second\"]} '\n",
    "      f'Losss:{results[\"loss\"][\"second\"]} '\n",
    "      f'Ties:{results[\"tie\"][\"second\"]} ')"
   ]
  },
  {
   "cell_type": "code",
   "execution_count": null,
   "metadata": {},
   "outputs": [],
   "source": []
  }
 ],
 "metadata": {
  "kernelspec": {
   "display_name": "Python380x64TensorflowGPU",
   "language": "python",
   "name": "python380x64tensorflowgpu"
  },
  "language_info": {
   "codemirror_mode": {
    "name": "ipython",
    "version": 3
   },
   "file_extension": ".py",
   "mimetype": "text/x-python",
   "name": "python",
   "nbconvert_exporter": "python",
   "pygments_lexer": "ipython3",
   "version": "3.8.0"
  }
 },
 "nbformat": 4,
 "nbformat_minor": 4
}
