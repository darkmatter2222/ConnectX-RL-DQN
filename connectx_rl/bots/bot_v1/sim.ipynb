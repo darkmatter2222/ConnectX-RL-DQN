{
 "cells": [
  {
   "cell_type": "code",
   "execution_count": 23,
   "metadata": {},
   "outputs": [],
   "source": [
    "import os, json, socket"
   ]
  },
  {
   "cell_type": "code",
   "execution_count": 24,
   "metadata": {},
   "outputs": [],
   "source": [
    "from kaggle_environments import evaluate, make, utils\n",
    "import random"
   ]
  },
  {
   "cell_type": "code",
   "execution_count": 25,
   "metadata": {},
   "outputs": [],
   "source": [
    "def is_win(board, column, mark, config, has_played=True):\n",
    "    columns = config.columns\n",
    "    rows = config.rows\n",
    "    inarow = config.inarow - 1\n",
    "    row = (\n",
    "        min([r for r in range(rows) if board[column + (r * columns)] == mark])\n",
    "        if has_played\n",
    "        else max([r for r in range(rows) if board[column + (r * columns)] == EMPTY])\n",
    "    )\n",
    "\n",
    "    def count(offset_row, offset_column):\n",
    "        for i in range(1, inarow + 1):\n",
    "            r = row + offset_row * i\n",
    "            c = column + offset_column * i\n",
    "            if (\n",
    "                r < 0\n",
    "                or r >= rows\n",
    "                or c < 0\n",
    "                or c >= columns\n",
    "                or board[c + (r * columns)] != mark\n",
    "            ):\n",
    "                return i - 1\n",
    "        return inarow\n",
    "\n",
    "    return (\n",
    "        count(1, 0) >= inarow  # vertical.\n",
    "        or (count(0, 1) + count(0, -1)) >= inarow  # horizontal.\n",
    "        or (count(-1, -1) + count(1, 1)) >= inarow  # top left diagonal.\n",
    "        or (count(-1, 1) + count(1, -1)) >= inarow  # top right diagonal.\n",
    "    )"
   ]
  },
  {
   "cell_type": "code",
   "execution_count": 28,
   "metadata": {},
   "outputs": [],
   "source": [
    "def myagent(observation, configuration):\n",
    "    thischoice = random.choice([c for c in range(7) if observation.board[c] == 0])\n",
    "    \n",
    "    is_win(observation.board, thischoice, 1, configuration)\n",
    "    \n",
    "    return "
   ]
  },
  {
   "cell_type": "code",
   "execution_count": 29,
   "metadata": {},
   "outputs": [
    {
     "name": "stdout",
     "output_type": "stream",
     "text": [
      "Error: ['Traceback (most recent call last):\\n', '  File \"C:\\\\Users\\\\ryans\\\\source\\\\repos\\\\venvs\\\\Python380x64TensorflowGPU\\\\lib\\\\site-packages\\\\kaggle_environments\\\\agent.py\", line 90, in run_agent\\n    message.action = agent(*args)\\n', '  File \"<ipython-input-28-b5024c461789>\", line 4, in myagent\\n    is_win(observation.board, thischoice, 1, configuration)\\n', '  File \"<ipython-input-25-ce51b44ab40d>\", line 6, in is_win\\n    min([r for r in range(rows) if board[column + (r * columns)] == mark])\\n', 'ValueError: min() arg is an empty sequence\\n']\n",
      "Error: ['Traceback (most recent call last):\\n', '  File \"C:\\\\Users\\\\ryans\\\\source\\\\repos\\\\venvs\\\\Python380x64TensorflowGPU\\\\lib\\\\site-packages\\\\kaggle_environments\\\\agent.py\", line 90, in run_agent\\n    message.action = agent(*args)\\n', '  File \"<ipython-input-28-b5024c461789>\", line 4, in myagent\\n    is_win(observation.board, thischoice, 1, configuration)\\n', '  File \"<ipython-input-25-ce51b44ab40d>\", line 6, in is_win\\n    min([r for r in range(rows) if board[column + (r * columns)] == mark])\\n', 'ValueError: min() arg is an empty sequence\\n']\n",
      "Error: ['Traceback (most recent call last):\\n', '  File \"C:\\\\Users\\\\ryans\\\\source\\\\repos\\\\venvs\\\\Python380x64TensorflowGPU\\\\lib\\\\site-packages\\\\kaggle_environments\\\\agent.py\", line 90, in run_agent\\n    message.action = agent(*args)\\n', '  File \"<ipython-input-28-b5024c461789>\", line 4, in myagent\\n    is_win(observation.board, thischoice, 1, configuration)\\n', '  File \"<ipython-input-25-ce51b44ab40d>\", line 6, in is_win\\n    min([r for r in range(rows) if board[column + (r * columns)] == mark])\\n', 'ValueError: min() arg is an empty sequence\\n']\n",
      "Error: ['Traceback (most recent call last):\\n', '  File \"C:\\\\Users\\\\ryans\\\\source\\\\repos\\\\venvs\\\\Python380x64TensorflowGPU\\\\lib\\\\site-packages\\\\kaggle_environments\\\\agent.py\", line 90, in run_agent\\n    message.action = agent(*args)\\n', '  File \"<ipython-input-28-b5024c461789>\", line 4, in myagent\\n    is_win(observation.board, thischoice, 1, configuration)\\n', '  File \"<ipython-input-25-ce51b44ab40d>\", line 6, in is_win\\n    min([r for r in range(rows) if board[column + (r * columns)] == mark])\\n', 'ValueError: min() arg is an empty sequence\\n']\n",
      "Error: ['Traceback (most recent call last):\\n', '  File \"C:\\\\Users\\\\ryans\\\\source\\\\repos\\\\venvs\\\\Python380x64TensorflowGPU\\\\lib\\\\site-packages\\\\kaggle_environments\\\\agent.py\", line 90, in run_agent\\n    message.action = agent(*args)\\n', '  File \"<ipython-input-28-b5024c461789>\", line 4, in myagent\\n    is_win(observation.board, thischoice, 1, configuration)\\n', '  File \"<ipython-input-25-ce51b44ab40d>\", line 6, in is_win\\n    min([r for r in range(rows) if board[column + (r * columns)] == mark])\\n', 'ValueError: min() arg is an empty sequence\\n']\n",
      "Error: ['Traceback (most recent call last):\\n', '  File \"C:\\\\Users\\\\ryans\\\\source\\\\repos\\\\venvs\\\\Python380x64TensorflowGPU\\\\lib\\\\site-packages\\\\kaggle_environments\\\\agent.py\", line 90, in run_agent\\n    message.action = agent(*args)\\n', '  File \"<ipython-input-28-b5024c461789>\", line 4, in myagent\\n    is_win(observation.board, thischoice, 1, configuration)\\n', '  File \"<ipython-input-25-ce51b44ab40d>\", line 6, in is_win\\n    min([r for r in range(rows) if board[column + (r * columns)] == mark])\\n', 'ValueError: min() arg is an empty sequence\\n']\n",
      "Error: ['Traceback (most recent call last):\\n', '  File \"C:\\\\Users\\\\ryans\\\\source\\\\repos\\\\venvs\\\\Python380x64TensorflowGPU\\\\lib\\\\site-packages\\\\kaggle_environments\\\\agent.py\", line 90, in run_agent\\n    message.action = agent(*args)\\n', '  File \"<ipython-input-28-b5024c461789>\", line 4, in myagent\\n    is_win(observation.board, thischoice, 1, configuration)\\n', '  File \"<ipython-input-25-ce51b44ab40d>\", line 6, in is_win\\n    min([r for r in range(rows) if board[column + (r * columns)] == mark])\\n', 'ValueError: min() arg is an empty sequence\\n']\n",
      "Error: ['Traceback (most recent call last):\\n', '  File \"C:\\\\Users\\\\ryans\\\\source\\\\repos\\\\venvs\\\\Python380x64TensorflowGPU\\\\lib\\\\site-packages\\\\kaggle_environments\\\\agent.py\", line 90, in run_agent\\n    message.action = agent(*args)\\n', '  File \"<ipython-input-28-b5024c461789>\", line 4, in myagent\\n    is_win(observation.board, thischoice, 1, configuration)\\n', '  File \"<ipython-input-25-ce51b44ab40d>\", line 6, in is_win\\n    min([r for r in range(rows) if board[column + (r * columns)] == mark])\\n', 'ValueError: min() arg is an empty sequence\\n']\n",
      "Error: ['Traceback (most recent call last):\\n', '  File \"C:\\\\Users\\\\ryans\\\\source\\\\repos\\\\venvs\\\\Python380x64TensorflowGPU\\\\lib\\\\site-packages\\\\kaggle_environments\\\\agent.py\", line 90, in run_agent\\n    message.action = agent(*args)\\n', '  File \"<ipython-input-28-b5024c461789>\", line 4, in myagent\\n    is_win(observation.board, thischoice, 1, configuration)\\n', '  File \"<ipython-input-25-ce51b44ab40d>\", line 6, in is_win\\n    min([r for r in range(rows) if board[column + (r * columns)] == mark])\\n', 'ValueError: min() arg is an empty sequence\\n']\n",
      "Error: ['Traceback (most recent call last):\\n', '  File \"C:\\\\Users\\\\ryans\\\\source\\\\repos\\\\venvs\\\\Python380x64TensorflowGPU\\\\lib\\\\site-packages\\\\kaggle_environments\\\\agent.py\", line 90, in run_agent\\n    message.action = agent(*args)\\n', '  File \"<ipython-input-28-b5024c461789>\", line 4, in myagent\\n    is_win(observation.board, thischoice, 1, configuration)\\n', '  File \"<ipython-input-25-ce51b44ab40d>\", line 6, in is_win\\n    min([r for r in range(rows) if board[column + (r * columns)] == mark])\\n', 'ValueError: min() arg is an empty sequence\\n']\n",
      "Eval Going First Wins:0 Losss:0 Ties:0  Going Second Wins:0 Losss:0 Ties:10 \n"
     ]
    }
   ],
   "source": [
    "results = {\n",
    "    'win': {\n",
    "        'first': 0,\n",
    "        'second': 0\n",
    "    },\n",
    "    'loss': {\n",
    "        'first': 0,\n",
    "        'second': 0\n",
    "    },\n",
    "    'tie': {\n",
    "        'first': 0,\n",
    "        'second': 0\n",
    "    }\n",
    "}\n",
    "\n",
    "for i in range(10):\n",
    "    env = make(\"connectx\", debug = True)\n",
    "    env.reset()\n",
    "    if random.choice(range(1)) == 0:\n",
    "        env.run([\"random\", myagent])\n",
    "        state_pos = 1\n",
    "    else:\n",
    "        env.run([myagent, \"random\"])\n",
    "        state_pos = 0\n",
    "    # Play as the first agent against default \"random\" agent.\n",
    "    win_flag = env.state[state_pos].reward\n",
    "    if state_pos == 0:\n",
    "        if win_flag == 1:\n",
    "            results['win']['first'] += 1\n",
    "        elif win_flag == -1:\n",
    "            results['loss']['first'] += 1\n",
    "        else:\n",
    "            results['tie']['first'] += 1\n",
    "    elif state_pos == 1:\n",
    "        if win_flag == 1:\n",
    "            results['win']['second'] += 1\n",
    "        elif win_flag == -1:\n",
    "            results['loss']['second'] += 1\n",
    "        else:\n",
    "            results['tie']['second'] += 1\n",
    "\n",
    "    #env.render(mode=\"ipython\", width=500, height=450)\n",
    "    \n",
    "print(f'Eval Going First '\n",
    "      f'Wins:{results[\"win\"][\"first\"]} '\n",
    "      f'Losss:{results[\"loss\"][\"first\"]} '\n",
    "      f'Ties:{results[\"tie\"][\"first\"]} '\n",
    "      f' Going Second '\n",
    "      f'Wins:{results[\"win\"][\"second\"]} '\n",
    "      f'Losss:{results[\"loss\"][\"second\"]} '\n",
    "      f'Ties:{results[\"tie\"][\"second\"]} ')"
   ]
  },
  {
   "cell_type": "code",
   "execution_count": null,
   "metadata": {},
   "outputs": [],
   "source": []
  }
 ],
 "metadata": {
  "kernelspec": {
   "display_name": "Python380x64TensorflowGPU",
   "language": "python",
   "name": "python380x64tensorflowgpu"
  },
  "language_info": {
   "codemirror_mode": {
    "name": "ipython",
    "version": 3
   },
   "file_extension": ".py",
   "mimetype": "text/x-python",
   "name": "python",
   "nbconvert_exporter": "python",
   "pygments_lexer": "ipython3",
   "version": "3.8.0"
  }
 },
 "nbformat": 4,
 "nbformat_minor": 4
}
