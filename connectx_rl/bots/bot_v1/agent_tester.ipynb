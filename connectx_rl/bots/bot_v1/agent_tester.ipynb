{
 "cells": [
  {
   "cell_type": "code",
   "execution_count": 2,
   "metadata": {},
   "outputs": [
    {
     "name": "stdout",
     "output_type": "stream",
     "text": [
      "Win:98 Loss:2\n"
     ]
    }
   ],
   "source": [
    "from package import connectxv1"
   ]
  },
  {
   "cell_type": "code",
   "execution_count": 10,
   "metadata": {},
   "outputs": [
    {
     "name": "stdout",
     "output_type": "stream",
     "text": [
      "Win:10 Loss:0 Tie:0\n"
     ]
    }
   ],
   "source": [
    "from kaggle_environments import evaluate, make, utils\n",
    "\n",
    "env = make(\"connectx\", debug=True)\n",
    "\n",
    "win = 0\n",
    "loss = 0\n",
    "tie = 0\n",
    "\n",
    "for i in range(10):\n",
    "    env.reset()\n",
    "    # Play as the first agent against default \"random\" agent.\n",
    "    env.run([connectxv1.my_agent, \"random\"])\n",
    "    if env.state[0].reward == 1:\n",
    "        win += 1\n",
    "    elif env.state[0].reward == 0:\n",
    "        tie += 1\n",
    "    else:\n",
    "        loss += 1\n",
    "    #env.render(mode=\"ipython\", width=500, height=450)\n",
    "    \n",
    "print(f'Win:{win} Loss:{loss} Tie:{tie}')"
   ]
  },
  {
   "cell_type": "code",
   "execution_count": null,
   "metadata": {},
   "outputs": [],
   "source": []
  }
 ],
 "metadata": {
  "kernelspec": {
   "display_name": "Python 3",
   "language": "python",
   "name": "python3"
  },
  "language_info": {
   "codemirror_mode": {
    "name": "ipython",
    "version": 3
   },
   "file_extension": ".py",
   "mimetype": "text/x-python",
   "name": "python",
   "nbconvert_exporter": "python",
   "pygments_lexer": "ipython3",
   "version": "3.7.3"
  }
 },
 "nbformat": 4,
 "nbformat_minor": 4
}
